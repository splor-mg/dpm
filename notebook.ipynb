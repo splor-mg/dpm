{
 "cells": [
  {
   "cell_type": "code",
   "execution_count": 2,
   "id": "a62138db",
   "metadata": {},
   "outputs": [],
   "source": [
    "from frictionless import Package\n",
    "\n",
    "url = 'https://raw.githubusercontent.com/transparencia-mg/datapackage-reprex/foreign-key-constraint/datapackage.json'\n",
    "package = Package(url)"
   ]
  },
  {
   "cell_type": "code",
   "execution_count": 3,
   "id": "7593d09d",
   "metadata": {},
   "outputs": [
    {
     "data": {
      "text/plain": [
       "{'name': 'datapackage-reprex',\n",
       " 'title': 'Data packages for Reproducible Examples',\n",
       " 'description': 'Esse repositório armazena exemplos de [data '\n",
       "                'packages](https://specs.frictionlessdata.io/) para construção '\n",
       "                'de [minimal, reproducible examples '\n",
       "                '(reprex)](https://stackoverflow.com/help/minimal-reproducible-example)',\n",
       " 'homepage': 'https://github.com/dados-mg/datapackage-reprex',\n",
       " 'profile': 'tabular-data-package',\n",
       " 'licenses': [{'name': 'CC0-1.0',\n",
       "               'title': 'CC0 1.0',\n",
       "               'path': 'https://creativecommons.org/publicdomain/zero/1.0/'}],\n",
       " 'contributors': [{'title': 'Francisco Alves', 'role': 'author'}],\n",
       " 'keywords': ['estados', 'brasil', 'federação'],\n",
       " 'version': '0.0.0.9000',\n",
       " 'resources': [{'name': 'estados',\n",
       "                'type': 'table',\n",
       "                'title': 'Estados brasileiros',\n",
       "                'description': 'Contém as seguintes informações para os '\n",
       "                               'estados brasileiros\\n'\n",
       "                               '\\n'\n",
       "                               '- Código\\n'\n",
       "                               '- Nome\\n'\n",
       "                               '- Sigla',\n",
       "                'profile': 'tabular-data-resource',\n",
       "                'path': 'data/estados.csv',\n",
       "                'scheme': 'file',\n",
       "                'format': 'csv',\n",
       "                'mediatype': 'text/csv',\n",
       "                'encoding': 'utf-8',\n",
       "                'schema': 'schema/estados.json'},\n",
       "               {'name': 'pib-per-capita',\n",
       "                'type': 'table',\n",
       "                'profile': 'tabular-data-resource',\n",
       "                'path': 'data/pib-per-capita.csv',\n",
       "                'scheme': 'file',\n",
       "                'format': 'csv',\n",
       "                'mediatype': 'text/csv',\n",
       "                'encoding': 'utf-8',\n",
       "                'schema': 'schema/pib-per-capita.json'}],\n",
       " 'owner_org': 'controladoria-geral-do-estado-cge'}"
      ]
     },
     "execution_count": 3,
     "metadata": {},
     "output_type": "execute_result"
    }
   ],
   "source": [
    "package"
   ]
  }
 ],
 "metadata": {
  "kernelspec": {
   "display_name": "Python 3 (ipykernel)",
   "language": "python",
   "name": "python3"
  },
  "language_info": {
   "codemirror_mode": {
    "name": "ipython",
    "version": 3
   },
   "file_extension": ".py",
   "mimetype": "text/x-python",
   "name": "python",
   "nbconvert_exporter": "python",
   "pygments_lexer": "ipython3",
   "version": "3.11.3"
  }
 },
 "nbformat": 4,
 "nbformat_minor": 5
}
